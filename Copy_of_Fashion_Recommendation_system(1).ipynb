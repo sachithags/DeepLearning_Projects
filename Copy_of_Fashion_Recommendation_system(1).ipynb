{
  "nbformat": 4,
  "nbformat_minor": 0,
  "metadata": {
    "colab": {
      "provenance": []
    },
    "kernelspec": {
      "name": "python3",
      "display_name": "Python 3"
    },
    "language_info": {
      "name": "python"
    }
  },
  "cells": [
    {
      "cell_type": "code",
      "execution_count": null,
      "metadata": {
        "id": "-oQ7oFmiUJfk"
      },
      "outputs": [],
      "source": [
        "from tensorflow.keras import layers\n",
        "from tensorflow import keras\n",
        "import tensorflow as tf\n",
        "\n",
        "from sklearn.model_selection import train_test_split\n",
        "\n",
        "from ast import literal_eval\n",
        "# is used for safely evaluating strings containing Python literals or container displays\n",
        "# (e.g., lists, dictionaries) to their corresponding Python objects.\n",
        "\n",
        "import matplotlib.pyplot as plt\n",
        "import pandas as pd\n",
        "import numpy as np"
      ]
    },
    {
      "cell_type": "code",
      "source": [
        "arxiv_data = pd.read_csv(\"arxiv_data_210930-054931.csv\")"
      ],
      "metadata": {
        "id": "-kkLvaz_Unyg"
      },
      "execution_count": null,
      "outputs": []
    },
    {
      "cell_type": "code",
      "source": [
        "arxiv_data.head()"
      ],
      "metadata": {
        "id": "TA3fs5MmUn1E",
        "colab": {
          "base_uri": "https://localhost:8080/",
          "height": 206
        },
        "outputId": "e6f1d764-f107-4ad6-aaa2-5cf16e534b42"
      },
      "execution_count": null,
      "outputs": [
        {
          "output_type": "execute_result",
          "data": {
            "text/plain": [
              "                           terms  \\\n",
              "0                      ['cs.LG']   \n",
              "1             ['cs.LG', 'cs.AI']   \n",
              "2  ['cs.LG', 'cs.CR', 'stat.ML']   \n",
              "3             ['cs.LG', 'cs.CR']   \n",
              "4                      ['cs.LG']   \n",
              "\n",
              "                                              titles  \\\n",
              "0  Multi-Level Attention Pooling for Graph Neural...   \n",
              "1  Decision Forests vs. Deep Networks: Conceptual...   \n",
              "2  Power up! Robust Graph Convolutional Network v...   \n",
              "3  Releasing Graph Neural Networks with Different...   \n",
              "4  Recurrence-Aware Long-Term Cognitive Network f...   \n",
              "\n",
              "                                           abstracts  \n",
              "0  Graph neural networks (GNNs) have been widely ...  \n",
              "1  Deep networks and decision forests (such as ra...  \n",
              "2  Graph convolutional networks (GCNs) are powerf...  \n",
              "3  With the increasing popularity of Graph Neural...  \n",
              "4  Machine learning solutions for pattern classif...  "
            ],
            "text/html": [
              "\n",
              "  <div id=\"df-765706b0-7e5a-4149-ab68-02cfb8b7909e\" class=\"colab-df-container\">\n",
              "    <div>\n",
              "<style scoped>\n",
              "    .dataframe tbody tr th:only-of-type {\n",
              "        vertical-align: middle;\n",
              "    }\n",
              "\n",
              "    .dataframe tbody tr th {\n",
              "        vertical-align: top;\n",
              "    }\n",
              "\n",
              "    .dataframe thead th {\n",
              "        text-align: right;\n",
              "    }\n",
              "</style>\n",
              "<table border=\"1\" class=\"dataframe\">\n",
              "  <thead>\n",
              "    <tr style=\"text-align: right;\">\n",
              "      <th></th>\n",
              "      <th>terms</th>\n",
              "      <th>titles</th>\n",
              "      <th>abstracts</th>\n",
              "    </tr>\n",
              "  </thead>\n",
              "  <tbody>\n",
              "    <tr>\n",
              "      <th>0</th>\n",
              "      <td>['cs.LG']</td>\n",
              "      <td>Multi-Level Attention Pooling for Graph Neural...</td>\n",
              "      <td>Graph neural networks (GNNs) have been widely ...</td>\n",
              "    </tr>\n",
              "    <tr>\n",
              "      <th>1</th>\n",
              "      <td>['cs.LG', 'cs.AI']</td>\n",
              "      <td>Decision Forests vs. Deep Networks: Conceptual...</td>\n",
              "      <td>Deep networks and decision forests (such as ra...</td>\n",
              "    </tr>\n",
              "    <tr>\n",
              "      <th>2</th>\n",
              "      <td>['cs.LG', 'cs.CR', 'stat.ML']</td>\n",
              "      <td>Power up! Robust Graph Convolutional Network v...</td>\n",
              "      <td>Graph convolutional networks (GCNs) are powerf...</td>\n",
              "    </tr>\n",
              "    <tr>\n",
              "      <th>3</th>\n",
              "      <td>['cs.LG', 'cs.CR']</td>\n",
              "      <td>Releasing Graph Neural Networks with Different...</td>\n",
              "      <td>With the increasing popularity of Graph Neural...</td>\n",
              "    </tr>\n",
              "    <tr>\n",
              "      <th>4</th>\n",
              "      <td>['cs.LG']</td>\n",
              "      <td>Recurrence-Aware Long-Term Cognitive Network f...</td>\n",
              "      <td>Machine learning solutions for pattern classif...</td>\n",
              "    </tr>\n",
              "  </tbody>\n",
              "</table>\n",
              "</div>\n",
              "    <div class=\"colab-df-buttons\">\n",
              "\n",
              "  <div class=\"colab-df-container\">\n",
              "    <button class=\"colab-df-convert\" onclick=\"convertToInteractive('df-765706b0-7e5a-4149-ab68-02cfb8b7909e')\"\n",
              "            title=\"Convert this dataframe to an interactive table.\"\n",
              "            style=\"display:none;\">\n",
              "\n",
              "  <svg xmlns=\"http://www.w3.org/2000/svg\" height=\"24px\" viewBox=\"0 -960 960 960\">\n",
              "    <path d=\"M120-120v-720h720v720H120Zm60-500h600v-160H180v160Zm220 220h160v-160H400v160Zm0 220h160v-160H400v160ZM180-400h160v-160H180v160Zm440 0h160v-160H620v160ZM180-180h160v-160H180v160Zm440 0h160v-160H620v160Z\"/>\n",
              "  </svg>\n",
              "    </button>\n",
              "\n",
              "  <style>\n",
              "    .colab-df-container {\n",
              "      display:flex;\n",
              "      gap: 12px;\n",
              "    }\n",
              "\n",
              "    .colab-df-convert {\n",
              "      background-color: #E8F0FE;\n",
              "      border: none;\n",
              "      border-radius: 50%;\n",
              "      cursor: pointer;\n",
              "      display: none;\n",
              "      fill: #1967D2;\n",
              "      height: 32px;\n",
              "      padding: 0 0 0 0;\n",
              "      width: 32px;\n",
              "    }\n",
              "\n",
              "    .colab-df-convert:hover {\n",
              "      background-color: #E2EBFA;\n",
              "      box-shadow: 0px 1px 2px rgba(60, 64, 67, 0.3), 0px 1px 3px 1px rgba(60, 64, 67, 0.15);\n",
              "      fill: #174EA6;\n",
              "    }\n",
              "\n",
              "    .colab-df-buttons div {\n",
              "      margin-bottom: 4px;\n",
              "    }\n",
              "\n",
              "    [theme=dark] .colab-df-convert {\n",
              "      background-color: #3B4455;\n",
              "      fill: #D2E3FC;\n",
              "    }\n",
              "\n",
              "    [theme=dark] .colab-df-convert:hover {\n",
              "      background-color: #434B5C;\n",
              "      box-shadow: 0px 1px 3px 1px rgba(0, 0, 0, 0.15);\n",
              "      filter: drop-shadow(0px 1px 2px rgba(0, 0, 0, 0.3));\n",
              "      fill: #FFFFFF;\n",
              "    }\n",
              "  </style>\n",
              "\n",
              "    <script>\n",
              "      const buttonEl =\n",
              "        document.querySelector('#df-765706b0-7e5a-4149-ab68-02cfb8b7909e button.colab-df-convert');\n",
              "      buttonEl.style.display =\n",
              "        google.colab.kernel.accessAllowed ? 'block' : 'none';\n",
              "\n",
              "      async function convertToInteractive(key) {\n",
              "        const element = document.querySelector('#df-765706b0-7e5a-4149-ab68-02cfb8b7909e');\n",
              "        const dataTable =\n",
              "          await google.colab.kernel.invokeFunction('convertToInteractive',\n",
              "                                                    [key], {});\n",
              "        if (!dataTable) return;\n",
              "\n",
              "        const docLinkHtml = 'Like what you see? Visit the ' +\n",
              "          '<a target=\"_blank\" href=https://colab.research.google.com/notebooks/data_table.ipynb>data table notebook</a>'\n",
              "          + ' to learn more about interactive tables.';\n",
              "        element.innerHTML = '';\n",
              "        dataTable['output_type'] = 'display_data';\n",
              "        await google.colab.output.renderOutput(dataTable, element);\n",
              "        const docLink = document.createElement('div');\n",
              "        docLink.innerHTML = docLinkHtml;\n",
              "        element.appendChild(docLink);\n",
              "      }\n",
              "    </script>\n",
              "  </div>\n",
              "\n",
              "\n",
              "<div id=\"df-43038921-696a-4e7c-8a09-e960d09966e5\">\n",
              "  <button class=\"colab-df-quickchart\" onclick=\"quickchart('df-43038921-696a-4e7c-8a09-e960d09966e5')\"\n",
              "            title=\"Suggest charts\"\n",
              "            style=\"display:none;\">\n",
              "\n",
              "<svg xmlns=\"http://www.w3.org/2000/svg\" height=\"24px\"viewBox=\"0 0 24 24\"\n",
              "     width=\"24px\">\n",
              "    <g>\n",
              "        <path d=\"M19 3H5c-1.1 0-2 .9-2 2v14c0 1.1.9 2 2 2h14c1.1 0 2-.9 2-2V5c0-1.1-.9-2-2-2zM9 17H7v-7h2v7zm4 0h-2V7h2v10zm4 0h-2v-4h2v4z\"/>\n",
              "    </g>\n",
              "</svg>\n",
              "  </button>\n",
              "\n",
              "<style>\n",
              "  .colab-df-quickchart {\n",
              "      --bg-color: #E8F0FE;\n",
              "      --fill-color: #1967D2;\n",
              "      --hover-bg-color: #E2EBFA;\n",
              "      --hover-fill-color: #174EA6;\n",
              "      --disabled-fill-color: #AAA;\n",
              "      --disabled-bg-color: #DDD;\n",
              "  }\n",
              "\n",
              "  [theme=dark] .colab-df-quickchart {\n",
              "      --bg-color: #3B4455;\n",
              "      --fill-color: #D2E3FC;\n",
              "      --hover-bg-color: #434B5C;\n",
              "      --hover-fill-color: #FFFFFF;\n",
              "      --disabled-bg-color: #3B4455;\n",
              "      --disabled-fill-color: #666;\n",
              "  }\n",
              "\n",
              "  .colab-df-quickchart {\n",
              "    background-color: var(--bg-color);\n",
              "    border: none;\n",
              "    border-radius: 50%;\n",
              "    cursor: pointer;\n",
              "    display: none;\n",
              "    fill: var(--fill-color);\n",
              "    height: 32px;\n",
              "    padding: 0;\n",
              "    width: 32px;\n",
              "  }\n",
              "\n",
              "  .colab-df-quickchart:hover {\n",
              "    background-color: var(--hover-bg-color);\n",
              "    box-shadow: 0 1px 2px rgba(60, 64, 67, 0.3), 0 1px 3px 1px rgba(60, 64, 67, 0.15);\n",
              "    fill: var(--button-hover-fill-color);\n",
              "  }\n",
              "\n",
              "  .colab-df-quickchart-complete:disabled,\n",
              "  .colab-df-quickchart-complete:disabled:hover {\n",
              "    background-color: var(--disabled-bg-color);\n",
              "    fill: var(--disabled-fill-color);\n",
              "    box-shadow: none;\n",
              "  }\n",
              "\n",
              "  .colab-df-spinner {\n",
              "    border: 2px solid var(--fill-color);\n",
              "    border-color: transparent;\n",
              "    border-bottom-color: var(--fill-color);\n",
              "    animation:\n",
              "      spin 1s steps(1) infinite;\n",
              "  }\n",
              "\n",
              "  @keyframes spin {\n",
              "    0% {\n",
              "      border-color: transparent;\n",
              "      border-bottom-color: var(--fill-color);\n",
              "      border-left-color: var(--fill-color);\n",
              "    }\n",
              "    20% {\n",
              "      border-color: transparent;\n",
              "      border-left-color: var(--fill-color);\n",
              "      border-top-color: var(--fill-color);\n",
              "    }\n",
              "    30% {\n",
              "      border-color: transparent;\n",
              "      border-left-color: var(--fill-color);\n",
              "      border-top-color: var(--fill-color);\n",
              "      border-right-color: var(--fill-color);\n",
              "    }\n",
              "    40% {\n",
              "      border-color: transparent;\n",
              "      border-right-color: var(--fill-color);\n",
              "      border-top-color: var(--fill-color);\n",
              "    }\n",
              "    60% {\n",
              "      border-color: transparent;\n",
              "      border-right-color: var(--fill-color);\n",
              "    }\n",
              "    80% {\n",
              "      border-color: transparent;\n",
              "      border-right-color: var(--fill-color);\n",
              "      border-bottom-color: var(--fill-color);\n",
              "    }\n",
              "    90% {\n",
              "      border-color: transparent;\n",
              "      border-bottom-color: var(--fill-color);\n",
              "    }\n",
              "  }\n",
              "</style>\n",
              "\n",
              "  <script>\n",
              "    async function quickchart(key) {\n",
              "      const quickchartButtonEl =\n",
              "        document.querySelector('#' + key + ' button');\n",
              "      quickchartButtonEl.disabled = true;  // To prevent multiple clicks.\n",
              "      quickchartButtonEl.classList.add('colab-df-spinner');\n",
              "      try {\n",
              "        const charts = await google.colab.kernel.invokeFunction(\n",
              "            'suggestCharts', [key], {});\n",
              "      } catch (error) {\n",
              "        console.error('Error during call to suggestCharts:', error);\n",
              "      }\n",
              "      quickchartButtonEl.classList.remove('colab-df-spinner');\n",
              "      quickchartButtonEl.classList.add('colab-df-quickchart-complete');\n",
              "    }\n",
              "    (() => {\n",
              "      let quickchartButtonEl =\n",
              "        document.querySelector('#df-43038921-696a-4e7c-8a09-e960d09966e5 button');\n",
              "      quickchartButtonEl.style.display =\n",
              "        google.colab.kernel.accessAllowed ? 'block' : 'none';\n",
              "    })();\n",
              "  </script>\n",
              "</div>\n",
              "\n",
              "    </div>\n",
              "  </div>\n"
            ],
            "application/vnd.google.colaboratory.intrinsic+json": {
              "type": "dataframe",
              "variable_name": "arxiv_data",
              "summary": "{\n  \"name\": \"arxiv_data\",\n  \"rows\": 56181,\n  \"fields\": [\n    {\n      \"column\": \"terms\",\n      \"properties\": {\n        \"dtype\": \"category\",\n        \"num_unique_values\": 3402,\n        \"samples\": [\n          \"['cs.LG', 'cs.CL', 'cs.CV', 'stat.ML']\",\n          \"['cs.LG', 'cs.AI', 'cs.CV', 'stat.ME', 'stat.ML']\",\n          \"['stat.ML', 'cs.LG', 'physics.chem-ph', 'physics.data-an']\"\n        ],\n        \"semantic_type\": \"\",\n        \"description\": \"\"\n      }\n    },\n    {\n      \"column\": \"titles\",\n      \"properties\": {\n        \"dtype\": \"string\",\n        \"num_unique_values\": 41105,\n        \"samples\": [\n          \"Semi-supervised Federated Learning for Activity Recognition\",\n          \"SATR-DL: Improving Surgical Skill Assessment and Task Recognition in Robot-assisted Surgery with Deep Neural Networks\",\n          \"A Hybrid Stochastic Policy Gradient Algorithm for Reinforcement Learning\"\n        ],\n        \"semantic_type\": \"\",\n        \"description\": \"\"\n      }\n    },\n    {\n      \"column\": \"abstracts\",\n      \"properties\": {\n        \"dtype\": \"string\",\n        \"num_unique_values\": 41115,\n        \"samples\": [\n          \"Counterfactual inference has become a ubiquitous tool in online\\nadvertisement, recommendation systems, medical diagnosis, and econometrics.\\nAccurate modeling of outcome distributions associated with different\\ninterventions -- known as counterfactual distributions -- is crucial for the\\nsuccess of these applications. In this work, we propose to model counterfactual\\ndistributions using a novel Hilbert space representation called counterfactual\\nmean embedding (CME). The CME embeds the associated counterfactual distribution\\ninto a reproducing kernel Hilbert space (RKHS) endowed with a positive definite\\nkernel, which allows us to perform causal inference over the entire landscape\\nof the counterfactual distribution. Based on this representation, we propose a\\ndistributional treatment effect (DTE) that can quantify the causal effect over\\nentire outcome distributions. Our approach is nonparametric as the CME can be\\nestimated under the unconfoundedness assumption from observational data without\\nrequiring any parametric assumption about the underlying distributions. We also\\nestablish a rate of convergence of the proposed estimator which depends on the\\nsmoothness of the conditional mean and the Radon-Nikodym derivative of the\\nunderlying marginal distributions. Furthermore, our framework allows for more\\ncomplex outcomes such as images, sequences, and graphs. Our experimental\\nresults on synthetic data and off-policy evaluation tasks demonstrate the\\nadvantages of the proposed estimator.\",\n          \"Current multi-person localisation and tracking systems have an over reliance\\non the use of appearance models for target re-identification and almost no\\napproaches employ a complete deep learning solution for both objectives. We\\npresent a novel, complete deep learning framework for multi-person localisation\\nand tracking. In this context we first introduce a light weight sequential\\nGenerative Adversarial Network architecture for person localisation, which\\novercomes issues related to occlusions and noisy detections, typically found in\\na multi person environment. In the proposed tracking framework we build upon\\nrecent advances in pedestrian trajectory prediction approaches and propose a\\nnovel data association scheme based on predicted trajectories. This removes the\\nneed for computationally expensive person re-identification systems based on\\nappearance features and generates human like trajectories with minimal\\nfragmentation. The proposed method is evaluated on multiple public benchmarks\\nincluding both static and dynamic cameras and is capable of generating\\noutstanding performance, especially among other recently proposed deep neural\\nnetwork based approaches.\",\n          \"Unifying text detection and text recognition in an end-to-end training\\nfashion has become a new trend for reading text in the wild, as these two tasks\\nare highly relevant and complementary. In this paper, we investigate the\\nproblem of scene text spotting, which aims at simultaneous text detection and\\nrecognition in natural images. An end-to-end trainable neural network named as\\nMask TextSpotter is presented. Different from the previous text spotters that\\nfollow the pipeline consisting of a proposal generation network and a\\nsequence-to-sequence recognition network, Mask TextSpotter enjoys a simple and\\nsmooth end-to-end learning procedure, in which both detection and recognition\\ncan be achieved directly from two-dimensional space via semantic segmentation.\\nFurther, a spatial attention module is proposed to enhance the performance and\\nuniversality. Benefiting from the proposed two-dimensional representation on\\nboth detection and recognition, it easily handles text instances of irregular\\nshapes, for instance, curved text. We evaluate it on four English datasets and\\none multi-language dataset, achieving consistently superior performance over\\nstate-of-the-art methods in both detection and end-to-end text recognition\\ntasks. Moreover, we further investigate the recognition module of our method\\nseparately, which significantly outperforms state-of-the-art methods on both\\nregular and irregular text datasets for scene text recognition.\"\n        ],\n        \"semantic_type\": \"\",\n        \"description\": \"\"\n      }\n    }\n  ]\n}"
            }
          },
          "metadata": {},
          "execution_count": 4
        }
      ]
    },
    {
      "cell_type": "code",
      "source": [
        "#Data cleaning and preprocessing"
      ],
      "metadata": {
        "id": "jLTElsO3Un3P"
      },
      "execution_count": null,
      "outputs": []
    },
    {
      "cell_type": "code",
      "source": [
        "\n",
        "arxiv_data.shape"
      ],
      "metadata": {
        "id": "jm5qKwpHUn5x",
        "colab": {
          "base_uri": "https://localhost:8080/"
        },
        "outputId": "6cbc5681-10df-4966-de6e-a87dacab3ce1"
      },
      "execution_count": null,
      "outputs": [
        {
          "output_type": "execute_result",
          "data": {
            "text/plain": [
              "(56181, 3)"
            ]
          },
          "metadata": {},
          "execution_count": 6
        }
      ]
    },
    {
      "cell_type": "code",
      "source": [
        "arxiv_data.isnull().sum()"
      ],
      "metadata": {
        "id": "hp0YFV3fUn88",
        "colab": {
          "base_uri": "https://localhost:8080/",
          "height": 178
        },
        "outputId": "1fe0e3f3-147b-4f42-8600-33920f8b5245"
      },
      "execution_count": null,
      "outputs": [
        {
          "output_type": "execute_result",
          "data": {
            "text/plain": [
              "terms        0\n",
              "titles       0\n",
              "abstracts    0\n",
              "dtype: int64"
            ],
            "text/html": [
              "<div>\n",
              "<style scoped>\n",
              "    .dataframe tbody tr th:only-of-type {\n",
              "        vertical-align: middle;\n",
              "    }\n",
              "\n",
              "    .dataframe tbody tr th {\n",
              "        vertical-align: top;\n",
              "    }\n",
              "\n",
              "    .dataframe thead th {\n",
              "        text-align: right;\n",
              "    }\n",
              "</style>\n",
              "<table border=\"1\" class=\"dataframe\">\n",
              "  <thead>\n",
              "    <tr style=\"text-align: right;\">\n",
              "      <th></th>\n",
              "      <th>0</th>\n",
              "    </tr>\n",
              "  </thead>\n",
              "  <tbody>\n",
              "    <tr>\n",
              "      <th>terms</th>\n",
              "      <td>0</td>\n",
              "    </tr>\n",
              "    <tr>\n",
              "      <th>titles</th>\n",
              "      <td>0</td>\n",
              "    </tr>\n",
              "    <tr>\n",
              "      <th>abstracts</th>\n",
              "      <td>0</td>\n",
              "    </tr>\n",
              "  </tbody>\n",
              "</table>\n",
              "</div><br><label><b>dtype:</b> int64</label>"
            ]
          },
          "metadata": {},
          "execution_count": 7
        }
      ]
    },
    {
      "cell_type": "code",
      "source": [
        "arxiv_data.duplicated().sum()"
      ],
      "metadata": {
        "id": "ch6-M2F6Un-U",
        "colab": {
          "base_uri": "https://localhost:8080/"
        },
        "outputId": "53262d07-736c-4673-ab58-1e1129f7cbb3"
      },
      "execution_count": null,
      "outputs": [
        {
          "output_type": "execute_result",
          "data": {
            "text/plain": [
              "np.int64(15054)"
            ]
          },
          "metadata": {},
          "execution_count": 8
        }
      ]
    },
    {
      "cell_type": "code",
      "source": [
        "labels_column = arxiv_data['terms'].apply(literal_eval)\n",
        "labels = labels_column.explode().unique()\n",
        "print(\"labels :\",labels)\n",
        "print(\"lenght :\",len(labels))"
      ],
      "metadata": {
        "id": "T397oi0pUoAl",
        "colab": {
          "base_uri": "https://localhost:8080/"
        },
        "outputId": "6367fd1a-98d1-4307-eb41-bc4d2b28d3ce"
      },
      "execution_count": null,
      "outputs": [
        {
          "output_type": "stream",
          "name": "stdout",
          "text": [
            "labels : ['cs.LG' 'cs.AI' 'cs.CR' ... 'D.1.3; G.4; I.2.8; I.2.11; I.5.3; J.3'\n",
            " '68T07, 68T45, 68T10, 68T50, 68U35' 'I.2.0; G.3']\n",
            "lenght : 1177\n"
          ]
        }
      ]
    },
    {
      "cell_type": "code",
      "source": [
        "arxiv_data = arxiv_data[~arxiv_data['titles'].duplicated()]\n",
        "print(f\"There are {len(arxiv_data)} rows in the deduplicated dataset.\")\n",
        "# There are some terms with occurrence as low as 1.\n",
        "print(sum(arxiv_data['terms'].value_counts()==1))\n",
        "# how many unique terms\n",
        "print(arxiv_data['terms'].nunique())"
      ],
      "metadata": {
        "id": "x8BcbPcbUoDD",
        "colab": {
          "base_uri": "https://localhost:8080/"
        },
        "outputId": "238de6ee-ca95-4564-fc98-4de91de59894"
      },
      "execution_count": null,
      "outputs": [
        {
          "output_type": "stream",
          "name": "stdout",
          "text": [
            "There are 41105 rows in the deduplicated dataset.\n",
            "2503\n",
            "3401\n"
          ]
        }
      ]
    },
    {
      "cell_type": "code",
      "source": [
        "arxiv_data_filtered = arxiv_data.groupby('terms').filter(lambda x: len(x) > 1)\n",
        "arxiv_data_filtered.shape"
      ],
      "metadata": {
        "id": "t3yiAYKFUoFg",
        "colab": {
          "base_uri": "https://localhost:8080/"
        },
        "outputId": "02025d8c-b1b5-48c8-b4a8-202912c687d5"
      },
      "execution_count": null,
      "outputs": [
        {
          "output_type": "execute_result",
          "data": {
            "text/plain": [
              "(38602, 3)"
            ]
          },
          "metadata": {},
          "execution_count": 11
        }
      ]
    },
    {
      "cell_type": "code",
      "source": [
        "arxiv_data_filtered['terms'] = arxiv_data_filtered['terms'].apply(lambda x: literal_eval(x))\n",
        "arxiv_data_filtered['terms'].values[:3]"
      ],
      "metadata": {
        "id": "pMUfSELBUoH9",
        "colab": {
          "base_uri": "https://localhost:8080/"
        },
        "outputId": "67bc594a-3a77-4ff9-9494-fcd71e01c20f"
      },
      "execution_count": null,
      "outputs": [
        {
          "output_type": "execute_result",
          "data": {
            "text/plain": [
              "array([list(['cs.LG']), list(['cs.LG', 'cs.AI']),\n",
              "       list(['cs.LG', 'cs.CR', 'stat.ML'])], dtype=object)"
            ]
          },
          "metadata": {},
          "execution_count": 12
        }
      ]
    },
    {
      "cell_type": "code",
      "source": [
        "#Train test and split"
      ],
      "metadata": {
        "id": "wJrwGcoAUoKb"
      },
      "execution_count": null,
      "outputs": []
    },
    {
      "cell_type": "code",
      "source": [
        "test_split = 0.1\n",
        "\n",
        "# Initial train and test split.\n",
        "# The stratify parameter ensures that the splitting is done in a way that preserves the same distribution of labels (terms) in both the training and test sets.\n",
        "train_df, test_df = train_test_split(arxiv_data_filtered,test_size=test_split,stratify=arxiv_data_filtered[\"terms\"].values,)\n",
        "\n",
        "# Splitting the test set further into validation\n",
        "# and new test sets.\n",
        "val_df = test_df.sample(frac=0.5)\n",
        "test_df.drop(val_df.index, inplace=True)\n",
        "\n",
        "print(f\"Number of rows in training set: {len(train_df)}\")\n",
        "print(f\"Number of rows in validation set: {len(val_df)}\")\n",
        "print(f\"Number of rows in test set: {len(test_df)}\")"
      ],
      "metadata": {
        "id": "bPqM69RqUoNE",
        "colab": {
          "base_uri": "https://localhost:8080/"
        },
        "outputId": "61b2e0ee-c6d0-4baf-ed75-511f2491e7a2"
      },
      "execution_count": null,
      "outputs": [
        {
          "output_type": "stream",
          "name": "stdout",
          "text": [
            "Number of rows in training set: 34741\n",
            "Number of rows in validation set: 1930\n",
            "Number of rows in test set: 1931\n"
          ]
        }
      ]
    },
    {
      "cell_type": "code",
      "source": [
        "# creates a TensorFlow RaggedTensor (terms) from the values in the \"terms\" column of the train_df DataFrame. A RaggedTensor is a tensor with non-uniform shapes\n",
        "terms = tf.ragged.constant(train_df['terms'].values)\n",
        "# This line creates a StringLookup layer in TensorFlow. The purpose of this layer is to map strings to integer indices and vice versa. The output_mode=\"multi_hot\" indicates that the layer will output a multi-hot encoded representation of the input strings.\n",
        "lookup = tf.keras.layers.StringLookup(output_mode='multi_hot')\n",
        "# This step adapts the StringLookup layer to the unique values in the \"terms\" column, building the vocabulary.\n",
        "lookup.adapt(terms)\n",
        "# retrieve vocabulary\n",
        "vocab = lookup.get_vocabulary()\n",
        "\n",
        "print(\"Vocabulary:\\n\")\n",
        "print(vocab)"
      ],
      "metadata": {
        "id": "FSF-U1hDUoPa",
        "colab": {
          "base_uri": "https://localhost:8080/"
        },
        "outputId": "44f6f940-10d4-4304-f634-f1fae837a30a"
      },
      "execution_count": null,
      "outputs": [
        {
          "output_type": "stream",
          "name": "stdout",
          "text": [
            "Vocabulary:\n",
            "\n",
            "['[UNK]', np.str_('cs.CV'), np.str_('cs.LG'), np.str_('stat.ML'), np.str_('cs.AI'), np.str_('eess.IV'), np.str_('cs.RO'), np.str_('cs.CL'), np.str_('cs.NE'), np.str_('cs.GR'), np.str_('cs.CR'), np.str_('math.OC'), np.str_('eess.SP'), np.str_('cs.SI'), np.str_('cs.MM'), np.str_('cs.SY'), np.str_('cs.IR'), np.str_('eess.SY'), np.str_('cs.MA'), np.str_('cs.HC'), np.str_('math.IT'), np.str_('cs.IT'), np.str_('cs.DC'), np.str_('stat.AP'), np.str_('cs.CY'), np.str_('stat.ME'), np.str_('stat.TH'), np.str_('math.ST'), np.str_('eess.AS'), np.str_('cs.SD'), np.str_('cs.DS'), np.str_('q-bio.QM'), np.str_('q-bio.NC'), np.str_('stat.CO'), np.str_('cs.CG'), np.str_('cs.NI'), np.str_('cs.GT'), np.str_('math.NA'), np.str_('cs.SE'), np.str_('I.2.6'), np.str_('cs.NA'), np.str_('physics.chem-ph'), np.str_('cs.DB'), np.str_('physics.comp-ph'), np.str_('cond-mat.dis-nn'), np.str_('q-bio.BM'), np.str_('math.PR'), np.str_('cs.PL'), np.str_('cs.LO'), np.str_('68T45'), np.str_('cs.AR'), np.str_('physics.data-an'), np.str_('quant-ph'), np.str_('I.2.10'), np.str_('cs.CE'), np.str_('cond-mat.stat-mech'), np.str_('q-fin.ST'), np.str_('math.DS'), np.str_('I.4.6'), np.str_('physics.ao-ph'), np.str_('cs.CC'), np.str_('68T05'), np.str_('physics.soc-ph'), np.str_('physics.med-ph'), np.str_('cs.PF'), np.str_('cs.DM'), np.str_('q-bio.GN'), np.str_('econ.EM'), np.str_('I.4.8'), np.str_('astro-ph.IM'), np.str_('physics.flu-dyn'), np.str_('math.AT'), np.str_('hep-ex'), np.str_('I.4'), np.str_('68U10'), np.str_('q-fin.TR'), np.str_('physics.geo-ph'), np.str_('cs.FL'), np.str_('I.5.4'), np.str_('I.2'), np.str_('physics.optics'), np.str_('cond-mat.mtrl-sci'), np.str_('I.4.9'), np.str_('68T10'), np.str_('I.4; I.5'), np.str_('68T07'), np.str_('q-fin.CP'), np.str_('math.AP'), np.str_('I.2.6; I.2.8'), np.str_('65D19'), np.str_('q-bio.PE'), np.str_('physics.app-ph'), np.str_('nlin.CD'), np.str_('math.CO'), np.str_('cs.MS'), np.str_('I.4.5'), np.str_('I.2.6; I.5.1'), np.str_('I.2.10; I.4; I.5'), np.str_('I.2.0; I.2.6'), np.str_('68U01'), np.str_('68T01'), np.str_('hep-ph'), np.str_('cs.SC'), np.str_('cs.ET'), np.str_('K.3.2'), np.str_('I.2.8'), np.str_('I.2.10; I.4.8'), np.str_('68T30'), np.str_('68'), np.str_('q-fin.GN'), np.str_('q-fin.EC'), np.str_('q-bio.MN'), np.str_('econ.GN'), np.str_('I.4.9; I.5.4'), np.str_('I.4.0'), np.str_('I.2; I.5'), np.str_('I.2; I.4; I.5'), np.str_('I.2.6; I.2.7'), np.str_('68T99'), np.str_('68Q32'), np.str_('62H30'), np.str_('q-fin.RM'), np.str_('q-fin.PM'), np.str_('q-bio.TO'), np.str_('q-bio.OT'), np.str_('physics.plasm-ph'), np.str_('physics.class-ph'), np.str_('physics.bio-ph'), np.str_('nlin.AO'), np.str_('math.SP'), np.str_('math.MP'), np.str_('math.LO'), np.str_('math.FA'), np.str_('math-ph'), np.str_('cs.DL'), np.str_('cond-mat.soft'), np.str_('I.5.2'), np.str_('I.4.6; I.4.8'), np.str_('I.4.4'), np.str_('I.4.3'), np.str_('I.4.1'), np.str_('I.3.7'), np.str_('I.2; J.2'), np.str_('I.2; I.2.6; I.2.7'), np.str_('I.2.7'), np.str_('I.2.6; I.5.4'), np.str_('I.2.6; I.2.9'), np.str_('I.2.6; I.2.7; H.3.1; H.3.3'), np.str_('I.2.6; I.2.10'), np.str_('I.2.6, I.5.4'), np.str_('I.2.1; J.3'), np.str_('I.2.10; I.5.1; I.4.8'), np.str_('I.2.10; I.4.8; I.5.4'), np.str_('I.2.10; I.2.6'), np.str_('I.2.1'), np.str_('H.3.1; I.2.6; I.2.7'), np.str_('H.3.1; H.3.3; I.2.6; I.2.7'), np.str_('G.3'), np.str_('F.2.2; I.2.7'), np.str_('E.5; E.4; E.2; H.1.1; F.1.1; F.1.3'), np.str_('68Txx'), np.str_('62H99'), np.str_('62H35'), np.str_('60L10, 60L20'), np.str_('14J60 (Primary) 14F05, 14J26 (Secondary)')]\n"
          ]
        }
      ]
    },
    {
      "cell_type": "code",
      "source": [
        "sample_label = train_df[\"terms\"].iloc[0]\n",
        "print(f\"Original label: {sample_label}\")\n",
        "\n",
        "label_binarized = lookup([sample_label])\n",
        "print(f\"Label-binarized representation: {label_binarized}\")"
      ],
      "metadata": {
        "id": "i9ugWTw5UoSE",
        "colab": {
          "base_uri": "https://localhost:8080/"
        },
        "outputId": "d0725220-cedd-403b-8e9a-bf5d7aae1182"
      },
      "execution_count": null,
      "outputs": [
        {
          "output_type": "stream",
          "name": "stdout",
          "text": [
            "Original label: ['cs.CV']\n",
            "Label-binarized representation: [[0 1 0 0 0 0 0 0 0 0 0 0 0 0 0 0 0 0 0 0 0 0 0 0 0 0 0 0 0 0 0 0 0 0 0 0\n",
            "  0 0 0 0 0 0 0 0 0 0 0 0 0 0 0 0 0 0 0 0 0 0 0 0 0 0 0 0 0 0 0 0 0 0 0 0\n",
            "  0 0 0 0 0 0 0 0 0 0 0 0 0 0 0 0 0 0 0 0 0 0 0 0 0 0 0 0 0 0 0 0 0 0 0 0\n",
            "  0 0 0 0 0 0 0 0 0 0 0 0 0 0 0 0 0 0 0 0 0 0 0 0 0 0 0 0 0 0 0 0 0 0 0 0\n",
            "  0 0 0 0 0 0 0 0 0 0 0 0 0 0 0 0 0 0 0 0 0]]\n"
          ]
        }
      ]
    },
    {
      "cell_type": "code",
      "source": [
        "max_seqlen = 150\n",
        "#batch_size: Batch size. It specifies the number of samples to use in each iteration.\n",
        "batch_size = 128\n",
        "#padding_token: A token used for padding sequences.\n",
        "padding_token = \"<pad>\"\n",
        "#auto = tf.data.AUTOTUNE: auto is assigned the value tf.data.AUTOTUNE,\n",
        "auto = tf.data.AUTOTUNE\n",
        "\n",
        "def make_dataset(dataframe, is_train=True):\n",
        "    # creating sequences of labesls\n",
        "    labels = tf.ragged.constant(dataframe[\"terms\"].values)\n",
        "    #This line uses the previously defined lookup layer to convert the ragged tensor of labels into a binarized representation. The resulting label_binarized is a NumPy array.\n",
        "    label_binarized = lookup(labels).numpy()\n",
        "    # creating sequences of text.\n",
        "    dataset = tf.data.Dataset.from_tensor_slices((dataframe[\"abstracts\"].values, label_binarized))\n",
        "    # shuffling data basis on condition\n",
        "    dataset = dataset.shuffle(batch_size * 10) if is_train else dataset\n",
        "    return dataset.batch(batch_size)\n",
        "\n",
        "\"\"\"\n",
        "In summary, the make_dataset function is designed to create a\n",
        "dataset suitable for training a model. It takes a dataframe as input,\n",
        "assumes it has \"abstracts\" and \"terms\" columns, and creates a dataset of\n",
        "batches where each batch consists of abstract\n",
        "sequences and their corresponding binarized label sequences.\n",
        "\"\"\""
      ],
      "metadata": {
        "id": "bsNP2FYkUoUn",
        "colab": {
          "base_uri": "https://localhost:8080/",
          "height": 72
        },
        "outputId": "3572526f-8b36-494d-b742-f70f52dbae31"
      },
      "execution_count": null,
      "outputs": [
        {
          "output_type": "execute_result",
          "data": {
            "text/plain": [
              "'\\nIn summary, the make_dataset function is designed to create a\\ndataset suitable for training a model. It takes a dataframe as input,\\nassumes it has \"abstracts\" and \"terms\" columns, and creates a dataset of\\nbatches where each batch consists of abstract\\nsequences and their corresponding binarized label sequences.\\n'"
            ],
            "application/vnd.google.colaboratory.intrinsic+json": {
              "type": "string"
            }
          },
          "metadata": {},
          "execution_count": 17
        }
      ]
    },
    {
      "cell_type": "code",
      "source": [
        "train_dataset = make_dataset(train_df, is_train=True)\n",
        "validation_dataset = make_dataset(val_df, is_train=False)\n",
        "test_dataset = make_dataset(test_df, is_train=False)"
      ],
      "metadata": {
        "id": "I6_TMk_NUoW-"
      },
      "execution_count": null,
      "outputs": []
    },
    {
      "cell_type": "code",
      "source": [
        "def invert_multi_hot(encoded_labels, vocab):    # vocab to the arguments\n",
        "    \"\"\"Reverse a single multi-hot encoded label to a tuple of vocab terms.\"\"\"\n",
        "    hot_indices = np.argwhere(encoded_labels == 1.0)[..., 0]\n",
        "    return np.take(vocab, hot_indices)"
      ],
      "metadata": {
        "id": "e1GG85Mjaetg"
      },
      "execution_count": null,
      "outputs": []
    },
    {
      "cell_type": "code",
      "source": [
        "# This code snippet is iterating through batches of the training dataset and printing the abstract text along with the corresponding labels.\n",
        "# This code snippet is iterating through batches of the training dataset and printing the abstract text along with the corresponding labels.\n",
        "text_batch, label_batch = next(iter(train_dataset))\n",
        "for i, text in enumerate(text_batch[:5]):\n",
        "    label = label_batch[i].numpy()[None, ...]\n",
        "    print(f\"Abstract: {text}\")\n",
        "    # Accessing the vocab variable loaded from the lookup layer\n",
        "    print(f\"Label(s): {invert_multi_hot(label[0], vocab)}\")    # Pass vocab to invert_multi_hot\n",
        "    print(\" \")"
      ],
      "metadata": {
        "id": "JTIyzUdaUoZP",
        "colab": {
          "base_uri": "https://localhost:8080/"
        },
        "outputId": "7cd01d52-4fff-48db-a99d-bd548475c98b"
      },
      "execution_count": null,
      "outputs": [
        {
          "output_type": "stream",
          "name": "stdout",
          "text": [
            "Abstract: b'We propose an efficient transfer learning method for adapting ImageNet\\npre-trained Convolutional Neural Network (CNN) to fine-grained image\\nclassification task. Conventional transfer learning methods typically face the\\ntrade-off between training time and accuracy. By adding \"attention module\" to\\neach convolutional filters of the pre-trained network, we are able to rank and\\nadjust the importance of each convolutional signal in an end-to-end pipeline.\\nIn this report, we show our method can adapt a pre-trianed ResNet50 for a\\nfine-grained transfer learning task within few epochs and achieve accuracy\\nabove conventional transfer learning methods and close to models trained from\\nscratch. Our model also offer interpretable result because the rank of the\\nconvolutional signal shows which convolution channels are utilized and\\namplified to achieve better classification result, as well as which signal\\nshould be treated as noise for the specific transfer learning task, which could\\nbe pruned to lower model size.'\n",
            "Label(s): ['cs.CV']\n",
            " \n",
            "Abstract: b'With the popularity of multimedia technology, information is always\\nrepresented or transmitted from multiple views. Most of the existing algorithms\\nare graph-based ones to learn the complex structures within multiview data but\\noverlooked the information within data representations. Furthermore, many\\nexisting works treat multiple views discriminatively by introducing some\\nhyperparameters, which is undesirable in practice. To this end, abundant\\nmultiview based methods have been proposed for dimension reduction. However,\\nthere are still no research to leverage the existing work into a unified\\nframework. To address this issue, in this paper, we propose a general framework\\nfor multiview data dimension reduction, named Kernelized Multiview Subspace\\nAnalysis (KMSA). It directly handles the multi-view feature representation in\\nthe kernel space, which provides a feasible channel for direct manipulations on\\nmultiview data with different dimensions. Meanwhile, compared with those\\ngraph-based methods, KMSA can fully exploit information from multiview data\\nwith nothing to lose. Furthermore, since different views have different\\ninfluences on KMSA, we propose a self-weighted strategy to treat different\\nviews discriminatively according to their contributions. A co-regularized term\\nis proposed to promote the mutual learning from multi-views. KMSA combines\\nself-weighted learning with the co-regularized term to learn appropriate\\nweights for all views. We also discuss the influence of the parameters in KMSA\\nregarding the weights of multi-views. We evaluate our proposed framework on 6\\nmultiview datasets for classification and image retrieval. The experimental\\nresults validate the advantages of our proposed method.'\n",
            "Label(s): ['cs.LG' 'cs.MM']\n",
            " \n",
            "Abstract: b\"We develop an approach for unsupervised learning of associations between\\nco-occurring perceptual events using a large graph. We applied this approach to\\nsuccessfully solve the image captcha of China's railroad system. The approach\\nis based on the principle of suspicious coincidence. In this particular\\nproblem, a user is presented with a deformed picture of a Chinese phrase and\\neight low-resolution images. They must quickly select the relevant images in\\norder to purchase their train tickets. This problem presents several\\nchallenges: (1) the teaching labels for both the Chinese phrases and the images\\nwere not available for supervised learning, (2) no pre-trained deep\\nconvolutional neural networks are available for recognizing these Chinese\\nphrases or the presented images, and (3) each captcha must be solved within a\\nfew seconds. We collected 2.6 million captchas, with 2.6 million deformed\\nChinese phrases and over 21 million images. From these data, we constructed an\\nassociation graph, composed of over 6 million vertices, and linked these\\nvertices based on co-occurrence information and feature similarity between\\npairs of images. We then trained a deep convolutional neural network to learn a\\nprojection of the Chinese phrases onto a 230-dimensional latent space. Using\\nlabel propagation, we computed the likelihood of each of the eight images\\nconditioned on the latent space projection of the deformed phrase for each\\ncaptcha. The resulting system solved captchas with 77% accuracy in 2 seconds on\\naverage. Our work, in answering this practical challenge, illustrates the power\\nof this class of unsupervised association learning techniques, which may be\\nrelated to the brain's general strategy for associating language stimuli with\\nvisual objects on the principle of suspicious coincidence.\"\n",
            "Label(s): ['cs.CV']\n",
            " \n",
            "Abstract: b'We propose a molecular generative model based on the conditional variational\\nautoencoder for de novo molecular design. It is specialized to control multiple\\nmolecular properties simultaneously by imposing them on a latent space. As a\\nproof of concept, we demonstrate that it can be used to generate drug-like\\nmolecules with five target properties. We were also able to adjust a single\\nproperty without changing the others and to manipulate it beyond the range of\\nthe dataset.'\n",
            "Label(s): ['cs.LG' 'stat.ML']\n",
            " \n",
            "Abstract: b'Graphs (networks) are ubiquitous and allow us to model entities (nodes) and\\nthe dependencies (edges) between them. Learning a useful feature representation\\nfrom graph data lies at the heart and success of many machine learning tasks\\nsuch as classification, anomaly detection, link prediction, among many others.\\nMany existing techniques use random walks as a basis for learning features or\\nestimating the parameters of a graph model for a downstream prediction task.\\nExamples include recent node embedding methods such as DeepWalk, node2vec, as\\nwell as graph-based deep learning algorithms. However, the simple random walk\\nused by these methods is fundamentally tied to the identity of the node. This\\nhas three main disadvantages. First, these approaches are inherently\\ntransductive and do not generalize to unseen nodes and other graphs. Second,\\nthey are not space-efficient as a feature vector is learned for each node which\\nis impractical for large graphs. Third, most of these approaches lack support\\nfor attributed graphs.\\n  To make these methods more generally applicable, we propose a framework for\\ninductive network representation learning based on the notion of attributed\\nrandom walk that is not tied to node identity and is instead based on learning\\na function $\\\\Phi : \\\\mathrm{\\\\rm \\\\bf x} \\\\rightarrow w$ that maps a node attribute\\nvector $\\\\mathrm{\\\\rm \\\\bf x}$ to a type $w$. This framework serves as a basis for\\ngeneralizing existing methods such as DeepWalk, node2vec, and many other\\nprevious methods that leverage traditional random walks.'\n",
            "Label(s): ['cs.LG' 'stat.ML' 'cs.AI' 'cs.SI']\n",
            " \n"
          ]
        }
      ]
    },
    {
      "cell_type": "code",
      "source": [
        "vocabulary = set()\n",
        "train_df[\"abstracts\"].str.lower().str.split().apply(vocabulary.update)\n",
        "vocabulary_size = len(vocabulary)\n",
        "print(vocabulary_size)"
      ],
      "metadata": {
        "id": "5leEYmA1Uobz",
        "colab": {
          "base_uri": "https://localhost:8080/"
        },
        "outputId": "0e95b9f2-ba7a-4267-a69e-e6cb0431ffc6"
      },
      "execution_count": null,
      "outputs": [
        {
          "output_type": "stream",
          "name": "stdout",
          "text": [
            "159122\n"
          ]
        }
      ]
    },
    {
      "cell_type": "code",
      "source": [
        "#Text Vectorization\n",
        "\n",
        "import pandas as pd\n",
        "import numpy as np\n",
        "import tensorflow as tf\n",
        "from tensorflow.keras.models import Sequential\n",
        "from tensorflow.keras.layers import Dense, Dropout, TextVectorization\n",
        "from sentence_transformers import SentenceTransformer"
      ],
      "metadata": {
        "id": "UtLj3oNLVdsH",
        "colab": {
          "base_uri": "https://localhost:8080/"
        },
        "outputId": "67a91a07-f1b9-4b8f-a8f2-da6439e117cc"
      },
      "execution_count": null,
      "outputs": [
        {
          "output_type": "stream",
          "name": "stderr",
          "text": [
            "ERROR:tensorflow:==================================\n",
            "Object was never used (type <class 'tensorflow.python.ops.tensor_array_ops.TensorArray'>):\n",
            "<tensorflow.python.ops.tensor_array_ops.TensorArray object at 0x7d4aa695db50>\n",
            "If you want to mark it as used call its \"mark_used()\" method.\n",
            "It was originally created here:\n",
            "  File \"/usr/local/lib/python3.11/dist-packages/tensorflow/python/ops/while_loop.py\", line 488, in while_loop\n",
            "    loop_vars = body(*loop_vars)  File \"/usr/local/lib/python3.11/dist-packages/tensorflow/python/ops/while_loop.py\", line 479, in <lambda>\n",
            "    body = lambda i, lv: (i + 1, orig_body(*lv))  File \"/usr/local/lib/python3.11/dist-packages/tensorflow/python/ops/map_fn.py\", line 495, in compute\n",
            "    return (i + 1, tas)  File \"/usr/local/lib/python3.11/dist-packages/tensorflow/python/ops/map_fn.py\", line 492, in <listcomp>\n",
            "    tas = [  File \"/usr/local/lib/python3.11/dist-packages/tensorflow/python/util/tf_should_use.py\", line 288, in wrapped\n",
            "    return _add_should_use_warning(fn(*args, **kwargs),\n",
            "==================================\n"
          ]
        }
      ]
    },
    {
      "cell_type": "code",
      "source": [
        "text_vectorizer = TextVectorization(\n",
        "    max_tokens=200000,  # Adjusted to match your notebook\n",
        "    output_mode='multi_hot'\n",
        ")\n",
        "text_vectorizer.adapt(arxiv_data['abstracts'])\n",
        "np.save('vocab.npy', text_vectorizer.get_vocabulary())  # Save vocabulary"
      ],
      "metadata": {
        "id": "oa0emXvpUoeT"
      },
      "execution_count": null,
      "outputs": []
    },
    {
      "cell_type": "code",
      "source": [
        "\"\"\"\n",
        "Mapping Vectorization to Datasets: The code maps the text vectorization operation to\n",
        "each element of the training, validation, and test datasets. This ensures that the text\n",
        "data in each dataset is transformed into numerical vectors using the adapted TextVectorization layer.\n",
        "The num_parallel_calls parameter is used to parallelize the mapping process, and prefetch is\n",
        "applied to prefetch data batches\n",
        "for better performance.\n",
        "\"\"\"\n",
        "train_dataset = train_dataset.map(lambda text, label: (text_vectorizer(text), label), num_parallel_calls=auto).prefetch(auto)\n",
        "validation_dataset = validation_dataset.map(lambda text, label: (text_vectorizer(text), label), num_parallel_calls=auto).prefetch(auto)\n",
        "test_dataset = test_dataset.map(lambda text, label: (text_vectorizer(text), label), num_parallel_calls=auto).prefetch(auto)"
      ],
      "metadata": {
        "id": "h8Pw-fjkUohx"
      },
      "execution_count": null,
      "outputs": []
    },
    {
      "cell_type": "code",
      "source": [
        "#model training\n",
        "\n",
        "model = Sequential([\n",
        "    Dense(512, activation='relu', input_shape=(200000,)),\n",
        "    Dropout(0.2),\n",
        "    Dense(256, activation='relu'),\n",
        "    Dropout(0.2),\n",
        "    Dense(len(category_names), activation='sigmoid')\n",
        "])\n",
        "model.compile(optimizer='adam', loss='binary_crossentropy', metrics=['accuracy'])"
      ],
      "metadata": {
        "id": "JqLp3JXHVhTo",
        "colab": {
          "base_uri": "https://localhost:8080/",
          "height": 274
        },
        "outputId": "cb1351c3-752f-4519-aacd-dc3876aaefdd"
      },
      "execution_count": null,
      "outputs": [
        {
          "output_type": "stream",
          "name": "stderr",
          "text": [
            "/usr/local/lib/python3.11/dist-packages/keras/src/layers/core/dense.py:87: UserWarning: Do not pass an `input_shape`/`input_dim` argument to a layer. When using Sequential models, prefer using an `Input(shape)` object as the first layer in the model instead.\n",
            "  super().__init__(activity_regularizer=activity_regularizer, **kwargs)\n"
          ]
        },
        {
          "output_type": "error",
          "ename": "NameError",
          "evalue": "name 'category_names' is not defined",
          "traceback": [
            "\u001b[0;31m---------------------------------------------------------------------------\u001b[0m",
            "\u001b[0;31mNameError\u001b[0m                                 Traceback (most recent call last)",
            "\u001b[0;32m<ipython-input-31-041ae726a1ff>\u001b[0m in \u001b[0;36m<cell line: 0>\u001b[0;34m()\u001b[0m\n\u001b[1;32m      6\u001b[0m     \u001b[0mDense\u001b[0m\u001b[0;34m(\u001b[0m\u001b[0;36m256\u001b[0m\u001b[0;34m,\u001b[0m \u001b[0mactivation\u001b[0m\u001b[0;34m=\u001b[0m\u001b[0;34m'relu'\u001b[0m\u001b[0;34m)\u001b[0m\u001b[0;34m,\u001b[0m\u001b[0;34m\u001b[0m\u001b[0;34m\u001b[0m\u001b[0m\n\u001b[1;32m      7\u001b[0m     \u001b[0mDropout\u001b[0m\u001b[0;34m(\u001b[0m\u001b[0;36m0.2\u001b[0m\u001b[0;34m)\u001b[0m\u001b[0;34m,\u001b[0m\u001b[0;34m\u001b[0m\u001b[0;34m\u001b[0m\u001b[0m\n\u001b[0;32m----> 8\u001b[0;31m     \u001b[0mDense\u001b[0m\u001b[0;34m(\u001b[0m\u001b[0mlen\u001b[0m\u001b[0;34m(\u001b[0m\u001b[0mcategory_names\u001b[0m\u001b[0;34m)\u001b[0m\u001b[0;34m,\u001b[0m \u001b[0mactivation\u001b[0m\u001b[0;34m=\u001b[0m\u001b[0;34m'sigmoid'\u001b[0m\u001b[0;34m)\u001b[0m\u001b[0;34m\u001b[0m\u001b[0;34m\u001b[0m\u001b[0m\n\u001b[0m\u001b[1;32m      9\u001b[0m ])\n\u001b[1;32m     10\u001b[0m \u001b[0mmodel\u001b[0m\u001b[0;34m.\u001b[0m\u001b[0mcompile\u001b[0m\u001b[0;34m(\u001b[0m\u001b[0moptimizer\u001b[0m\u001b[0;34m=\u001b[0m\u001b[0;34m'adam'\u001b[0m\u001b[0;34m,\u001b[0m \u001b[0mloss\u001b[0m\u001b[0;34m=\u001b[0m\u001b[0;34m'binary_crossentropy'\u001b[0m\u001b[0;34m,\u001b[0m \u001b[0mmetrics\u001b[0m\u001b[0;34m=\u001b[0m\u001b[0;34m[\u001b[0m\u001b[0;34m'accuracy'\u001b[0m\u001b[0;34m]\u001b[0m\u001b[0;34m)\u001b[0m\u001b[0;34m\u001b[0m\u001b[0;34m\u001b[0m\u001b[0m\n",
            "\u001b[0;31mNameError\u001b[0m: name 'category_names' is not defined"
          ]
        }
      ]
    },
    {
      "cell_type": "code",
      "source": [
        "# creating shallow_mlp_model  (MLP)\n",
        "from tensorflow.keras.callbacks import EarlyStopping\n",
        "\n",
        "# Creating shallow_mlp_model (MLP) with dropout layers\n",
        "model1 = keras.Sequential([\n",
        "    # First hidden layer: 512 neurons, ReLU activation function, with dropout.\n",
        "    layers.Dense(512, activation=\"relu\"),\n",
        "    layers.Dropout(0.5),  # Adding dropout for regularization.\n",
        "\n",
        "    # Second hidden layer: 256 neurons, ReLU activation function, with dropout.\n",
        "    layers.Dense(256, activation=\"relu\"),\n",
        "    layers.Dropout(0.5),  # Adding dropout for regularization.\n",
        "\n",
        "    # Output layer: The number of neurons equals the vocabulary size (output vocabulary of the StringLookup layer), with a sigmoid activation function.\n",
        "    layers.Dense(lookup.vocabulary_size(), activation='sigmoid')\n",
        "])\n",
        "\n",
        "# Compile the model\n",
        "model1.compile(loss=\"binary_crossentropy\", optimizer='adam', metrics=['binary_accuracy'])\n",
        "\n",
        "# Add early stopping\n",
        "# Number of epochs with no improvement after which training will be stopped.\n",
        "# Restore weights from the epoch with the best value of the monitored quantity.\n",
        "early_stopping = EarlyStopping(patience=5,restore_best_weights=True)\n",
        "\n",
        "# Train the model\n",
        "# Add early stopping callback.verbose=1\n",
        "history = model1.fit(train_dataset,validation_data=validation_dataset,epochs=20,callbacks=[early_stopping])"
      ],
      "metadata": {
        "id": "tRDG-jFiVhWG",
        "colab": {
          "base_uri": "https://localhost:8080/"
        },
        "outputId": "23f52299-cfff-434e-81a8-6ba559c2ebd6"
      },
      "execution_count": null,
      "outputs": [
        {
          "output_type": "stream",
          "name": "stdout",
          "text": [
            "Epoch 1/20\n",
            "\u001b[1m272/272\u001b[0m \u001b[32m━━━━━━━━━━━━━━━━━━━━\u001b[0m\u001b[37m\u001b[0m \u001b[1m628s\u001b[0m 2s/step - binary_accuracy: 0.9461 - loss: 0.1269 - val_binary_accuracy: 0.9943 - val_loss: 0.0194\n",
            "Epoch 2/20\n",
            "\u001b[1m272/272\u001b[0m \u001b[32m━━━━━━━━━━━━━━━━━━━━\u001b[0m\u001b[37m\u001b[0m \u001b[1m609s\u001b[0m 2s/step - binary_accuracy: 0.9946 - loss: 0.0194 - val_binary_accuracy: 0.9945 - val_loss: 0.0185\n",
            "Epoch 3/20\n",
            "\u001b[1m272/272\u001b[0m \u001b[32m━━━━━━━━━━━━━━━━━━━━\u001b[0m\u001b[37m\u001b[0m \u001b[1m609s\u001b[0m 2s/step - binary_accuracy: 0.9957 - loss: 0.0145 - val_binary_accuracy: 0.9945 - val_loss: 0.0187\n",
            "Epoch 4/20\n",
            "\u001b[1m272/272\u001b[0m \u001b[32m━━━━━━━━━━━━━━━━━━━━\u001b[0m\u001b[37m\u001b[0m \u001b[1m619s\u001b[0m 2s/step - binary_accuracy: 0.9964 - loss: 0.0117 - val_binary_accuracy: 0.9944 - val_loss: 0.0192\n",
            "Epoch 5/20\n",
            "\u001b[1m272/272\u001b[0m \u001b[32m━━━━━━━━━━━━━━━━━━━━\u001b[0m\u001b[37m\u001b[0m \u001b[1m616s\u001b[0m 2s/step - binary_accuracy: 0.9970 - loss: 0.0099 - val_binary_accuracy: 0.9944 - val_loss: 0.0199\n",
            "Epoch 6/20\n",
            "\u001b[1m272/272\u001b[0m \u001b[32m━━━━━━━━━━━━━━━━━━━━\u001b[0m\u001b[37m\u001b[0m \u001b[1m609s\u001b[0m 2s/step - binary_accuracy: 0.9974 - loss: 0.0088 - val_binary_accuracy: 0.9944 - val_loss: 0.0207\n",
            "Epoch 7/20\n",
            "\u001b[1m272/272\u001b[0m \u001b[32m━━━━━━━━━━━━━━━━━━━━\u001b[0m\u001b[37m\u001b[0m \u001b[1m620s\u001b[0m 2s/step - binary_accuracy: 0.9977 - loss: 0.0079 - val_binary_accuracy: 0.9944 - val_loss: 0.0209\n"
          ]
        }
      ]
    },
    {
      "cell_type": "code",
      "source": [
        "# plotting loss\n",
        "def plot_result(item):\n",
        "    plt.plot(history.history[item], label=item)\n",
        "    plt.plot(history.history[\"val_\" + item], label=\"val_\" + item)\n",
        "    plt.xlabel(\"Epochs\")\n",
        "    plt.ylabel(item)\n",
        "    plt.title(\"Train and Validation {} Over Epochs\".format(item), fontsize=14)\n",
        "    plt.legend()\n",
        "    plt.grid()\n",
        "    plt.show()\n",
        "\n",
        "\n",
        "plot_result(\"loss\")\n",
        "plot_result(\"binary_accuracy\")"
      ],
      "metadata": {
        "id": "cIydXRedVhZu",
        "colab": {
          "base_uri": "https://localhost:8080/",
          "height": 929
        },
        "outputId": "32f0ad2a-5a26-43f1-9abf-fe04b62acd63"
      },
      "execution_count": null,
      "outputs": [
        {
          "output_type": "display_data",
          "data": {
            "text/plain": [
              "<Figure size 640x480 with 1 Axes>"
            ],
            "image/png": "[encoded data removed]"
          },
          "metadata": {}
        },
        {
          "output_type": "display_data",
          "data": {
            "text/plain": [
              "<Figure size 640x480 with 1 Axes>"
            ],
            "image/png": "[encoded data removed]"
          },
          "metadata": {}
        }
      ]
    },
    {
      "cell_type": "code",
      "source": [
        "#Model Evaluation"
      ],
      "metadata": {
        "id": "znBVl1YaVha6"
      },
      "execution_count": null,
      "outputs": []
    },
    {
      "cell_type": "code",
      "source": [
        "# model evaltuation on test and val dataset\n",
        "_, binary_acc1 = model1.evaluate(test_dataset)\n",
        "_, binary_acc2 = model1.evaluate(validation_dataset)\n",
        "\n",
        "print(f\"Categorical accuracy on the test set: {round(binary_acc1 * 100, 2)}%.\")\n",
        "print(f\"Categorical accuracy on the validation set: {round(binary_acc2 * 100, 2)}%.\")"
      ],
      "metadata": {
        "id": "U0FR69M-VhdH",
        "colab": {
          "base_uri": "https://localhost:8080/"
        },
        "outputId": "1ac6985d-f16d-4d0f-ca3f-be6ef2b20464"
      },
      "execution_count": null,
      "outputs": [
        {
          "output_type": "stream",
          "name": "stdout",
          "text": [
            "\u001b[1m16/16\u001b[0m \u001b[32m━━━━━━━━━━━━━━━━━━━━\u001b[0m\u001b[37m\u001b[0m \u001b[1m8s\u001b[0m 439ms/step - binary_accuracy: 0.9946 - loss: 0.0180\n",
            "\u001b[1m16/16\u001b[0m \u001b[32m━━━━━━━━━━━━━━━━━━━━\u001b[0m\u001b[37m\u001b[0m \u001b[1m9s\u001b[0m 527ms/step - binary_accuracy: 0.9946 - loss: 0.0182\n",
            "Categorical accuracy on the test set: 99.47%.\n",
            "Categorical accuracy on the validation set: 99.45%.\n"
          ]
        }
      ]
    },
    {
      "cell_type": "code",
      "source": [
        "#Save Model and Text Vectorizer:"
      ],
      "metadata": {
        "id": "29iLo3N3Vhfh"
      },
      "execution_count": null,
      "outputs": []
    },
    {
      "cell_type": "code",
      "source": [
        "# Save the model\n",
        "import pickle\n",
        "\n",
        "# Save the weights of the model\n",
        "model1.save(\"models/model.h5\")\n",
        "\n",
        "# Save the configuration of the text vectorizer\n",
        "saved_text_vectorizer_config = text_vectorizer.get_config()\n",
        "with open(\"models/text_vectorizer_config.pkl\", \"wb\") as f:\n",
        "    pickle.dump(saved_text_vectorizer_config, f)\n",
        "\n",
        "\n",
        "with open(\"models/text_vectorizer_weights.pkl\", \"wb\") as f:\n",
        "    pickle.dump(text_vectorizer.get_weights(), f)\n",
        "\n",
        "# Save the vocabulary\n",
        "with open(\"models/vocab.pkl\", \"wb\") as f:\n",
        "    pickle.dump(vocab, f)"
      ],
      "metadata": {
        "id": "i83kxPeNVhh5",
        "colab": {
          "base_uri": "https://localhost:8080/"
        },
        "outputId": "d105480b-985e-4fb2-f43c-363f72a3deea"
      },
      "execution_count": null,
      "outputs": [
        {
          "output_type": "stream",
          "name": "stderr",
          "text": [
            "WARNING:absl:You are saving your model as an HDF5 file via `model.save()` or `keras.saving.save_model(model)`. This file format is considered legacy. We recommend using instead the native Keras format, e.g. `model.save('my_model.keras')` or `keras.saving.save_model(model, 'my_model.keras')`. \n"
          ]
        }
      ]
    },
    {
      "cell_type": "code",
      "source": [
        "#Load Model and Text Vectorizer:"
      ],
      "metadata": {
        "id": "SLYjM-rNVhkE"
      },
      "execution_count": null,
      "outputs": []
    },
    {
      "cell_type": "code",
      "source": [
        "from tensorflow import keras\n",
        "import pickle\n",
        "\n",
        "# Load the model\n",
        "loaded_model = keras.models.load_model(\"models/model.h5\")\n",
        "\n",
        "from tensorflow.keras.layers import TextVectorization\n",
        "\n",
        "# Load the configuration of the text vectorizer\n",
        "with open(\"models/text_vectorizer_config.pkl\", \"rb\") as f:\n",
        "    saved_text_vectorizer_config = pickle.load(f)\n",
        "\n",
        "# Create a new TextVectorization layer with the saved configuration\n",
        "loaded_text_vectorizer = TextVectorization.from_config(saved_text_vectorizer_config)\n",
        "\n",
        "# Load the saved weights into the new TextVectorization layer\n",
        "with open(\"models/text_vectorizer_weights.pkl\", \"rb\") as f:\n",
        "    weights = pickle.load(f)\n",
        "    loaded_text_vectorizer.set_weights(weights)"
      ],
      "metadata": {
        "id": "WJZxzpJTVhng",
        "colab": {
          "base_uri": "https://localhost:8080/"
        },
        "outputId": "3703f472-96f6-4cf6-bd03-1617829d84ad"
      },
      "execution_count": null,
      "outputs": [
        {
          "output_type": "stream",
          "name": "stderr",
          "text": [
            "WARNING:absl:Compiled the loaded model, but the compiled metrics have yet to be built. `model.compile_metrics` will be empty until you train or evaluate the model.\n"
          ]
        }
      ]
    },
    {
      "cell_type": "code",
      "source": [
        "# Load the vocabulary\n",
        "with open(\"models/vocab.pkl\", \"rb\") as f:\n",
        "    loaded_vocab = pickle.load(f)"
      ],
      "metadata": {
        "id": "uZG8mb56V86g"
      },
      "execution_count": null,
      "outputs": []
    },
    {
      "cell_type": "code",
      "source": [
        "#Model Prediction"
      ],
      "metadata": {
        "id": "FdB7v98wV889"
      },
      "execution_count": null,
      "outputs": []
    },
    {
      "cell_type": "code",
      "source": [
        "def invert_multi_hot(encoded_labels):\n",
        "    \"\"\"Reverse a single multi-hot encoded label to a tuple of vocab terms.\"\"\"\n",
        "    hot_indices = np.argwhere(encoded_labels == 1.0)[..., 0]\n",
        "    return np.take(loaded_vocab, hot_indices)"
      ],
      "metadata": {
        "id": "rtjqWs24V9AU"
      },
      "execution_count": null,
      "outputs": []
    },
    {
      "cell_type": "code",
      "source": [
        "def predict_category(abstract, model, vectorizer, label_lookup):\n",
        "    # Preprocess the abstract using the loaded text vectorizer\n",
        "    preprocessed_abstract = vectorizer([abstract])\n",
        "\n",
        "    # Make predictions using the loaded model\n",
        "    predictions = model.predict(preprocessed_abstract)\n",
        "\n",
        "    # Convert predictions to human-readable labels\n",
        "    predicted_labels = label_lookup(np.round(predictions).astype(int)[0])\n",
        "\n",
        "    return predicted_labels"
      ],
      "metadata": {
        "id": "yf1Ecd3OV9Cb"
      },
      "execution_count": null,
      "outputs": []
    },
    {
      "cell_type": "code",
      "source": [
        "# 1. Install and import\n",
        "!pip install tensorflow sentence-transformers pandas numpy scikit-learn\n",
        "import pandas as pd\n",
        "import numpy as np\n",
        "import tensorflow as tf\n",
        "from tensorflow.keras.models import Sequential\n",
        "from tensorflow.keras.layers import Dense, Dropout, TextVectorization\n",
        "from sentence_transformers import SentenceTransformer\n",
        "from sklearn.model_selection import train_test_split\n",
        "\n",
        "# 2. Load and analyze dataset\n",
        "df = pd.read_csv(\"/content/arxiv_data_210930-054931.csv\")\n",
        "print(\"Columns:\", df.columns.tolist())\n",
        "print(\"Sample categories:\", df['terms'].head(3))\n",
        "\n",
        "# 3. Enhanced preprocessing\n",
        "def clean_text(text):\n",
        "    text = str(text).lower()\n",
        "    text = ' '.join([word for word in text.split() if len(word) > 2])  # Remove short words\n",
        "    return text\n",
        "\n",
        "df = df[['abstracts', 'terms']].dropna()\n",
        "df['abstracts'] = df['abstracts'].apply(clean_text)\n",
        "df['terms'] = df['terms'].str.split().str[0]  # Primary category\n",
        "\n",
        "# 4. Prepare categories (with minimum samples threshold)\n",
        "MIN_SAMPLES_PER_CATEGORY = 50  # Adjust based on your data\n",
        "category_counts = df['terms'].value_counts()\n",
        "valid_categories = category_counts[category_counts >= MIN_SAMPLES_PER_CATEGORY].index\n",
        "df = df[df['terms'].isin(valid_categories)]\n",
        "\n",
        "categories = pd.get_dummies(df['terms'])\n",
        "category_names = categories.columns.tolist()\n",
        "print(f\"Working with {len(category_names)} terms\")\n",
        "\n",
        "# 5. Optimized Text Vectorization\n",
        "MAX_TOKENS = 200000  # Increased for large vocabulary\n",
        "text_vectorizer = TextVectorization(\n",
        "    max_tokens=MAX_TOKENS,\n",
        "    output_mode='multi_hot',  # Changed from 'int' to 'multi_hot'\n",
        "    ngrams=2,  # Consider bigrams\n",
        "    standardize='lower_and_strip_punctuation'\n",
        ")\n",
        "text_vectorizer.adapt(df['abstracts'])\n",
        "\n",
        "# Get actual vocabulary size\n",
        "vocab_size = len(text_vectorizer.get_vocabulary())\n",
        "print(f\"Actual vocabulary size: {vocab_size}\")\n",
        "\n",
        "# 6. Build Model (with dynamic input shape)\n",
        "model = Sequential([\n",
        "    Dense(512, activation='relu', input_shape=(vocab_size,)),\n",
        "    Dropout(0.3),\n",
        "    Dense(256, activation='relu'),\n",
        "    Dropout(0.3),\n",
        "    Dense(len(category_names), activation='softmax')\n",
        "])\n",
        "model.compile(optimizer=tf.keras.optimizers.Adam(0.001),\n",
        "             loss='categorical_crossentropy',\n",
        "             metrics=['accuracy'])\n",
        "\n",
        "# 7. Train with validation\n",
        "X = text_vectorizer(df['abstracts'])\n",
        "y = categories.values\n",
        "\n",
        "X_train, X_test, y_train, y_test = train_test_split(X, y, test_size=0.2, random_state=42)\n",
        "\n",
        "history = model.fit(\n",
        "    X_train,\n",
        "    y_train,\n",
        "    epochs=15,\n",
        "    batch_size=64,\n",
        "    validation_data=(X_test, y_test),\n",
        "    callbacks=[tf.keras.callbacks.EarlyStopping(patience=3)]\n",
        ")\n",
        "\n",
        "# 8. Save components\n",
        "model.save('arxiv_model', save_format='tf')\n",
        "np.save('category_names.npy', category_names)\n",
        "np.save('vocab.npy', text_vectorizer.get_vocabulary())\n",
        "\n",
        "# 9. Prediction function\n",
        "def predict_category(abstract, model, vectorizer, top_n=3):\n",
        "    vectorized = vectorizer([abstract])\n",
        "    predictions = model.predict(vectorized, verbose=0)\n",
        "    top_indices = np.argsort(predictions[0])[-top_n:][::-1]\n",
        "    return [(category_names[i], float(predictions[0][i])) for i in top_indices]\n",
        "\n",
        "# 10. Recommendation system\n",
        "st_model = SentenceTransformer('all-mpnet-base-v2')  # More powerful model\n",
        "paper_embeddings = st_model.encode(df['abstracts'].tolist())\n",
        "\n",
        "def recommend_papers(query, n=5):\n",
        "    query_embed = st_model.encode([query])\n",
        "    sim_scores = np.dot(paper_embeddings, query_embed.T).flatten()\n",
        "    top_indices = np.argsort(sim_scores)[-n:][::-1]\n",
        "    return df.iloc[top_indices][['title', 'abstracts', 'terms']]\n",
        "\n",
        "# Example usage\n",
        "sample_abstract = \"Graph neural networks for molecular property prediction...\"\n",
        "print(\"Predicted categories:\", predict_category(sample_abstract, model, text_vectorizer))\n",
        "print(\"\\nRecommended papers:\", recommend_papers(sample_abstract))"
      ],
      "metadata": {
        "colab": {
          "base_uri": "https://localhost:8080/"
        },
        "id": "e2Jl-cIj6bSf",
        "outputId": "b8d5d7b1-fc0e-4fe3-aa30-0567c61b6f01"
      },
      "execution_count": null,
      "outputs": [
        {
          "output_type": "stream",
          "name": "stdout",
          "text": [
            "Requirement already satisfied: tensorflow in /usr/local/lib/python3.11/dist-packages (2.18.0)\n",
            "Requirement already satisfied: sentence-transformers in /usr/local/lib/python3.11/dist-packages (3.4.1)\n",
            "Requirement already satisfied: pandas in /usr/local/lib/python3.11/dist-packages (2.2.2)\n",
            "Requirement already satisfied: numpy in /usr/local/lib/python3.11/dist-packages (2.0.2)\n",
            "Requirement already satisfied: scikit-learn in /usr/local/lib/python3.11/dist-packages (1.6.1)\n",
            "Requirement already satisfied: absl-py>=1.0.0 in /usr/local/lib/python3.11/dist-packages (from tensorflow) (1.4.0)\n",
            "Requirement already satisfied: astunparse>=1.6.0 in /usr/local/lib/python3.11/dist-packages (from tensorflow) (1.6.3)\n",
            "Requirement already satisfied: flatbuffers>=24.3.25 in /usr/local/lib/python3.11/dist-packages (from tensorflow) (25.2.10)\n",
            "Requirement already satisfied: gast!=0.5.0,!=0.5.1,!=0.5.2,>=0.2.1 in /usr/local/lib/python3.11/dist-packages (from tensorflow) (0.6.0)\n",
            "Requirement already satisfied: google-pasta>=0.1.1 in /usr/local/lib/python3.11/dist-packages (from tensorflow) (0.2.0)\n",
            "Requirement already satisfied: libclang>=13.0.0 in /usr/local/lib/python3.11/dist-packages (from tensorflow) (18.1.1)\n",
            "Requirement already satisfied: opt-einsum>=2.3.2 in /usr/local/lib/python3.11/dist-packages (from tensorflow) (3.4.0)\n",
            "Requirement already satisfied: packaging in /usr/local/lib/python3.11/dist-packages (from tensorflow) (24.2)\n",
            "Requirement already satisfied: protobuf!=4.21.0,!=4.21.1,!=4.21.2,!=4.21.3,!=4.21.4,!=4.21.5,<6.0.0dev,>=3.20.3 in /usr/local/lib/python3.11/dist-packages (from tensorflow) (5.29.4)\n",
            "Requirement already satisfied: requests<3,>=2.21.0 in /usr/local/lib/python3.11/dist-packages (from tensorflow) (2.32.3)\n",
            "Requirement already satisfied: setuptools in /usr/local/lib/python3.11/dist-packages (from tensorflow) (75.2.0)\n",
            "Requirement already satisfied: six>=1.12.0 in /usr/local/lib/python3.11/dist-packages (from tensorflow) (1.17.0)\n",
            "Requirement already satisfied: termcolor>=1.1.0 in /usr/local/lib/python3.11/dist-packages (from tensorflow) (3.0.1)\n",
            "Requirement already satisfied: typing-extensions>=3.6.6 in /usr/local/lib/python3.11/dist-packages (from tensorflow) (4.13.1)\n",
            "Requirement already satisfied: wrapt>=1.11.0 in /usr/local/lib/python3.11/dist-packages (from tensorflow) (1.17.2)\n",
            "Requirement already satisfied: grpcio<2.0,>=1.24.3 in /usr/local/lib/python3.11/dist-packages (from tensorflow) (1.71.0)\n",
            "Requirement already satisfied: tensorboard<2.19,>=2.18 in /usr/local/lib/python3.11/dist-packages (from tensorflow) (2.18.0)\n",
            "Requirement already satisfied: keras>=3.5.0 in /usr/local/lib/python3.11/dist-packages (from tensorflow) (3.8.0)\n",
            "Requirement already satisfied: h5py>=3.11.0 in /usr/local/lib/python3.11/dist-packages (from tensorflow) (3.13.0)\n",
            "Requirement already satisfied: ml-dtypes<0.5.0,>=0.4.0 in /usr/local/lib/python3.11/dist-packages (from tensorflow) (0.4.1)\n",
            "Requirement already satisfied: tensorflow-io-gcs-filesystem>=0.23.1 in /usr/local/lib/python3.11/dist-packages (from tensorflow) (0.37.1)\n",
            "Requirement already satisfied: transformers<5.0.0,>=4.41.0 in /usr/local/lib/python3.11/dist-packages (from sentence-transformers) (4.50.3)\n",
            "Requirement already satisfied: tqdm in /usr/local/lib/python3.11/dist-packages (from sentence-transformers) (4.67.1)\n",
            "Requirement already satisfied: torch>=1.11.0 in /usr/local/lib/python3.11/dist-packages (from sentence-transformers) (2.6.0+cu124)\n",
            "Requirement already satisfied: scipy in /usr/local/lib/python3.11/dist-packages (from sentence-transformers) (1.14.1)\n",
            "Requirement already satisfied: huggingface-hub>=0.20.0 in /usr/local/lib/python3.11/dist-packages (from sentence-transformers) (0.30.1)\n",
            "Requirement already satisfied: Pillow in /usr/local/lib/python3.11/dist-packages (from sentence-transformers) (11.1.0)\n",
            "Requirement already satisfied: python-dateutil>=2.8.2 in /usr/local/lib/python3.11/dist-packages (from pandas) (2.8.2)\n",
            "Requirement already satisfied: pytz>=2020.1 in /usr/local/lib/python3.11/dist-packages (from pandas) (2025.2)\n",
            "Requirement already satisfied: tzdata>=2022.7 in /usr/local/lib/python3.11/dist-packages (from pandas) (2025.2)\n",
            "Requirement already satisfied: joblib>=1.2.0 in /usr/local/lib/python3.11/dist-packages (from scikit-learn) (1.4.2)\n",
            "Requirement already satisfied: threadpoolctl>=3.1.0 in /usr/local/lib/python3.11/dist-packages (from scikit-learn) (3.6.0)\n",
            "Requirement already satisfied: wheel<1.0,>=0.23.0 in /usr/local/lib/python3.11/dist-packages (from astunparse>=1.6.0->tensorflow) (0.45.1)\n",
            "Requirement already satisfied: filelock in /usr/local/lib/python3.11/dist-packages (from huggingface-hub>=0.20.0->sentence-transformers) (3.18.0)\n",
            "Requirement already satisfied: fsspec>=2023.5.0 in /usr/local/lib/python3.11/dist-packages (from huggingface-hub>=0.20.0->sentence-transformers) (2025.3.2)\n",
            "Requirement already satisfied: pyyaml>=5.1 in /usr/local/lib/python3.11/dist-packages (from huggingface-hub>=0.20.0->sentence-transformers) (6.0.2)\n",
            "Requirement already satisfied: rich in /usr/local/lib/python3.11/dist-packages (from keras>=3.5.0->tensorflow) (13.9.4)\n",
            "Requirement already satisfied: namex in /usr/local/lib/python3.11/dist-packages (from keras>=3.5.0->tensorflow) (0.0.8)\n",
            "Requirement already satisfied: optree in /usr/local/lib/python3.11/dist-packages (from keras>=3.5.0->tensorflow) (0.14.1)\n",
            "Requirement already satisfied: charset-normalizer<4,>=2 in /usr/local/lib/python3.11/dist-packages (from requests<3,>=2.21.0->tensorflow) (3.4.1)\n",
            "Requirement already satisfied: idna<4,>=2.5 in /usr/local/lib/python3.11/dist-packages (from requests<3,>=2.21.0->tensorflow) (3.10)\n",
            "Requirement already satisfied: urllib3<3,>=1.21.1 in /usr/local/lib/python3.11/dist-packages (from requests<3,>=2.21.0->tensorflow) (2.3.0)\n",
            "Requirement already satisfied: certifi>=2017.4.17 in /usr/local/lib/python3.11/dist-packages (from requests<3,>=2.21.0->tensorflow) (2025.1.31)\n",
            "Requirement already satisfied: markdown>=2.6.8 in /usr/local/lib/python3.11/dist-packages (from tensorboard<2.19,>=2.18->tensorflow) (3.7)\n",
            "Requirement already satisfied: tensorboard-data-server<0.8.0,>=0.7.0 in /usr/local/lib/python3.11/dist-packages (from tensorboard<2.19,>=2.18->tensorflow) (0.7.2)\n",
            "Requirement already satisfied: werkzeug>=1.0.1 in /usr/local/lib/python3.11/dist-packages (from tensorboard<2.19,>=2.18->tensorflow) (3.1.3)\n",
            "Requirement already satisfied: networkx in /usr/local/lib/python3.11/dist-packages (from torch>=1.11.0->sentence-transformers) (3.4.2)\n",
            "Requirement already satisfied: jinja2 in /usr/local/lib/python3.11/dist-packages (from torch>=1.11.0->sentence-transformers) (3.1.6)\n",
            "Requirement already satisfied: nvidia-cuda-nvrtc-cu12==12.4.127 in /usr/local/lib/python3.11/dist-packages (from torch>=1.11.0->sentence-transformers) (12.4.127)\n",
            "Requirement already satisfied: nvidia-cuda-runtime-cu12==12.4.127 in /usr/local/lib/python3.11/dist-packages (from torch>=1.11.0->sentence-transformers) (12.4.127)\n",
            "Requirement already satisfied: nvidia-cuda-cupti-cu12==12.4.127 in /usr/local/lib/python3.11/dist-packages (from torch>=1.11.0->sentence-transformers) (12.4.127)\n",
            "Requirement already satisfied: nvidia-cudnn-cu12==9.1.0.70 in /usr/local/lib/python3.11/dist-packages (from torch>=1.11.0->sentence-transformers) (9.1.0.70)\n",
            "Requirement already satisfied: nvidia-cublas-cu12==12.4.5.8 in /usr/local/lib/python3.11/dist-packages (from torch>=1.11.0->sentence-transformers) (12.4.5.8)\n",
            "Requirement already satisfied: nvidia-cufft-cu12==11.2.1.3 in /usr/local/lib/python3.11/dist-packages (from torch>=1.11.0->sentence-transformers) (11.2.1.3)\n",
            "Requirement already satisfied: nvidia-curand-cu12==10.3.5.147 in /usr/local/lib/python3.11/dist-packages (from torch>=1.11.0->sentence-transformers) (10.3.5.147)\n",
            "Requirement already satisfied: nvidia-cusolver-cu12==11.6.1.9 in /usr/local/lib/python3.11/dist-packages (from torch>=1.11.0->sentence-transformers) (11.6.1.9)\n",
            "Requirement already satisfied: nvidia-cusparse-cu12==12.3.1.170 in /usr/local/lib/python3.11/dist-packages (from torch>=1.11.0->sentence-transformers) (12.3.1.170)\n",
            "Requirement already satisfied: nvidia-cusparselt-cu12==0.6.2 in /usr/local/lib/python3.11/dist-packages (from torch>=1.11.0->sentence-transformers) (0.6.2)\n",
            "Requirement already satisfied: nvidia-nccl-cu12==2.21.5 in /usr/local/lib/python3.11/dist-packages (from torch>=1.11.0->sentence-transformers) (2.21.5)\n",
            "Requirement already satisfied: nvidia-nvtx-cu12==12.4.127 in /usr/local/lib/python3.11/dist-packages (from torch>=1.11.0->sentence-transformers) (12.4.127)\n",
            "Requirement already satisfied: nvidia-nvjitlink-cu12==12.4.127 in /usr/local/lib/python3.11/dist-packages (from torch>=1.11.0->sentence-transformers) (12.4.127)\n",
            "Requirement already satisfied: triton==3.2.0 in /usr/local/lib/python3.11/dist-packages (from torch>=1.11.0->sentence-transformers) (3.2.0)\n",
            "Requirement already satisfied: sympy==1.13.1 in /usr/local/lib/python3.11/dist-packages (from torch>=1.11.0->sentence-transformers) (1.13.1)\n",
            "Requirement already satisfied: mpmath<1.4,>=1.1.0 in /usr/local/lib/python3.11/dist-packages (from sympy==1.13.1->torch>=1.11.0->sentence-transformers) (1.3.0)\n",
            "Requirement already satisfied: regex!=2019.12.17 in /usr/local/lib/python3.11/dist-packages (from transformers<5.0.0,>=4.41.0->sentence-transformers) (2024.11.6)\n",
            "Requirement already satisfied: tokenizers<0.22,>=0.21 in /usr/local/lib/python3.11/dist-packages (from transformers<5.0.0,>=4.41.0->sentence-transformers) (0.21.1)\n",
            "Requirement already satisfied: safetensors>=0.4.3 in /usr/local/lib/python3.11/dist-packages (from transformers<5.0.0,>=4.41.0->sentence-transformers) (0.5.3)\n",
            "Requirement already satisfied: MarkupSafe>=2.1.1 in /usr/local/lib/python3.11/dist-packages (from werkzeug>=1.0.1->tensorboard<2.19,>=2.18->tensorflow) (3.0.2)\n",
            "Requirement already satisfied: markdown-it-py>=2.2.0 in /usr/local/lib/python3.11/dist-packages (from rich->keras>=3.5.0->tensorflow) (3.0.0)\n",
            "Requirement already satisfied: pygments<3.0.0,>=2.13.0 in /usr/local/lib/python3.11/dist-packages (from rich->keras>=3.5.0->tensorflow) (2.18.0)\n",
            "Requirement already satisfied: mdurl~=0.1 in /usr/local/lib/python3.11/dist-packages (from markdown-it-py>=2.2.0->rich->keras>=3.5.0->tensorflow) (0.1.2)\n",
            "Columns: ['terms', 'titles', 'abstracts']\n",
            "Sample categories: 0                        ['cs.LG']\n",
            "1               ['cs.LG', 'cs.AI']\n",
            "2    ['cs.LG', 'cs.CR', 'stat.ML']\n",
            "Name: terms, dtype: object\n",
            "Working with 6 terms\n",
            "Actual vocabulary size: 200000\n"
          ]
        },
        {
          "output_type": "stream",
          "name": "stderr",
          "text": [
            "/usr/local/lib/python3.11/dist-packages/keras/src/layers/core/dense.py:87: UserWarning: Do not pass an `input_shape`/`input_dim` argument to a layer. When using Sequential models, prefer using an `Input(shape)` object as the first layer in the model instead.\n",
            "  super().__init__(activity_regularizer=activity_regularizer, **kwargs)\n"
          ]
        }
      ]
    },
    {
      "cell_type": "code",
      "source": [],
      "metadata": {
        "id": "CgMbiniq6cfr"
      },
      "execution_count": null,
      "outputs": []
    }
  ]
}